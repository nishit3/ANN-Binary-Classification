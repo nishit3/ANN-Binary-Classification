{
  "nbformat": 4,
  "nbformat_minor": 0,
  "metadata": {
    "colab": {
      "provenance": []
    },
    "kernelspec": {
      "name": "python3",
      "display_name": "Python 3"
    },
    "language_info": {
      "name": "python"
    }
  },
  "cells": [
    {
      "cell_type": "code",
      "execution_count": 115,
      "metadata": {
        "id": "bHsM4ba08JEE"
      },
      "outputs": [],
      "source": [
        "import torch\n",
        "import numpy as np\n",
        "import pandas as pd"
      ]
    },
    {
      "cell_type": "code",
      "source": [
        "data = pd.read_csv('processed.cleveland.data.csv', sep=',')\n",
        "import scipy.stats as stats\n",
        "independentVars = data.keys()[:-1]\n",
        "\n",
        "data = data[data['iv12'] != '?']\n",
        "data = data[data['iv13'] != '?']\n",
        "\n",
        "data = data.astype({'iv12': \"float64\", 'iv13': 'float64', 'dv1': \"float64\"})\n",
        "\n",
        "data[independentVars] = data[independentVars].apply(stats.zscore)"
      ],
      "metadata": {
        "id": "67Mi-nkO8Zhf"
      },
      "execution_count": 116,
      "outputs": []
    },
    {
      "cell_type": "code",
      "source": [
        "X = data.iloc[:, :-1].values\n",
        "y = data.iloc[:, -1].values"
      ],
      "metadata": {
        "id": "CyyH2zOy8rEQ"
      },
      "execution_count": 118,
      "outputs": []
    },
    {
      "cell_type": "code",
      "source": [
        "y[np.where(y > 0)] = 1\n",
        "y = y.reshape((-1, 1))"
      ],
      "metadata": {
        "id": "mUoESLGv_auQ"
      },
      "execution_count": 119,
      "outputs": []
    },
    {
      "cell_type": "code",
      "source": [
        "from sklearn.model_selection import train_test_split\n",
        "train_X, test_X, train_y, test_y = train_test_split(X, y, shuffle=True, train_size=0.8)\n",
        "train_set = torch.utils.data.TensorDataset(torch.tensor(train_X, dtype=torch.float), torch.tensor(train_y, dtype=torch.float))\n",
        "test_set = torch.utils.data.TensorDataset(torch.tensor(test_X, dtype=torch.float), torch.tensor(test_y, dtype=torch.float))\n"
      ],
      "metadata": {
        "id": "uEVZJ9-VKZf3"
      },
      "execution_count": 120,
      "outputs": []
    },
    {
      "cell_type": "code",
      "source": [
        "train_loader = torch.utils.data.DataLoader(train_set, batch_size=4, drop_last=True)\n",
        "test_loader = torch.utils.data.DataLoader(test_set, batch_size=len(test_set.tensors[0]))"
      ],
      "metadata": {
        "id": "2c2yP2hCLfWJ"
      },
      "execution_count": 121,
      "outputs": []
    },
    {
      "cell_type": "code",
      "source": [
        "import torch.nn as nn\n",
        "HeartDiseaseClassifier = nn.Sequential(\n",
        "    nn.Linear(13, 30),\n",
        "    nn.ReLU(),\n",
        "    nn.Linear(30, 30),\n",
        "    nn.ReLU(),\n",
        "    nn.Linear(30, 1)\n",
        ")\n",
        "\n",
        "lossFun = nn.BCEWithLogitsLoss()\n",
        "optimizer = torch.optim.Adam(params=HeartDiseaseClassifier.parameters(), lr=.001)\n",
        "\n",
        "for epoch_i in range(1000):\n",
        "  for X,y in train_loader:\n",
        "    preds = HeartDiseaseClassifier(X)\n",
        "    loss = lossFun(preds, y)\n",
        "    optimizer.zero_grad()\n",
        "    loss.backward()\n",
        "    optimizer.step()"
      ],
      "metadata": {
        "id": "3s6LVgBjMhcX"
      },
      "execution_count": 139,
      "outputs": []
    },
    {
      "cell_type": "code",
      "source": [
        "X_test, y_test = next(iter(test_loader))\n",
        "test_preds = HeartDiseaseClassifier(X_test)\n",
        "test_preds[test_preds <= 0.00] = 0.00\n",
        "test_preds[test_preds > 0] = 1.00\n",
        "acc = (torch.mean((test_preds == y_test).float())*100.00).item()\n",
        "print(f\"{acc} % accuracy on test set\")"
      ],
      "metadata": {
        "colab": {
          "base_uri": "https://localhost:8080/"
        },
        "id": "aW5PolQJQQDx",
        "outputId": "1e5ebddd-51d6-4df8-a467-07ec4cf00c07"
      },
      "execution_count": 140,
      "outputs": [
        {
          "output_type": "stream",
          "name": "stdout",
          "text": [
            "76.66666412353516 % accuracy on test set\n"
          ]
        }
      ]
    },
    {
      "cell_type": "code",
      "source": [
        "from sklearn.metrics import confusion_matrix\n",
        "tn, fp, fn, tp = confusion_matrix(y_test.detach().numpy(), test_preds.detach().numpy()).ravel()\n",
        "(tn, fp, fn, tp)"
      ],
      "metadata": {
        "colab": {
          "base_uri": "https://localhost:8080/"
        },
        "id": "Vebodl27cbgr",
        "outputId": "d90e4866-b0ec-484c-9585-6847839a9942"
      },
      "execution_count": 144,
      "outputs": [
        {
          "output_type": "execute_result",
          "data": {
            "text/plain": [
              "(28, 5, 9, 18)"
            ]
          },
          "metadata": {},
          "execution_count": 144
        }
      ]
    }
  ]
}